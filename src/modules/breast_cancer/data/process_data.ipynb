{
 "cells": [
  {
   "cell_type": "markdown",
   "source": [
    "Processing data"
   ],
   "metadata": {
    "collapsed": false
   }
  },
  {
   "cell_type": "code",
   "execution_count": 35,
   "outputs": [],
   "source": [
    "#Import Import libraries\n",
    "import pandas as pd\n",
    "import numpy as np\n",
    "\n",
    "from src.utils.split_data import train_val_test_split, remove_labels"
   ],
   "metadata": {
    "collapsed": false,
    "ExecuteTime": {
     "end_time": "2023-08-13T23:43:55.404046Z",
     "start_time": "2023-08-13T23:43:55.390233Z"
    }
   }
  },
  {
   "cell_type": "code",
   "execution_count": 36,
   "outputs": [],
   "source": [
    "#Load the dataset\n",
    "DATASET_PATH = '../../../../data/raw/breast_cancer.csv'\n",
    "data = pd.read_csv(DATASET_PATH)"
   ],
   "metadata": {
    "collapsed": false,
    "ExecuteTime": {
     "end_time": "2023-08-13T23:43:55.559149Z",
     "start_time": "2023-08-13T23:43:55.546400Z"
    }
   }
  },
  {
   "cell_type": "code",
   "execution_count": 37,
   "outputs": [],
   "source": [
    "#Split the train, val, and test set\n",
    "train_set, val_set, test_set = train_val_test_split(data)"
   ],
   "metadata": {
    "collapsed": false,
    "ExecuteTime": {
     "end_time": "2023-08-13T23:43:55.698456Z",
     "start_time": "2023-08-13T23:43:55.687619Z"
    }
   }
  },
  {
   "cell_type": "code",
   "execution_count": 38,
   "outputs": [],
   "source": [
    "#Split the inputs and labels\n",
    "X_train, y_train = remove_labels(train_set, \"Class\")\n",
    "X_val, y_val = remove_labels(val_set, \"Class\")\n",
    "X_test, y_test = remove_labels(test_set, \"Class\")"
   ],
   "metadata": {
    "collapsed": false,
    "ExecuteTime": {
     "end_time": "2023-08-13T23:43:55.821505Z",
     "start_time": "2023-08-13T23:43:55.811964Z"
    }
   }
  },
  {
   "cell_type": "code",
   "execution_count": 39,
   "outputs": [
    {
     "data": {
      "text/plain": "     Clump Thickness  Uniformity of Cell Size  Uniformity of Cell Shape  \\\n228                3                        3                         2   \n300                8                        6                         4   \n310                1                        1                         1   \n274               10                        4                         6   \n626                3                        1                         1   \n..               ...                      ...                       ...   \n71                 9                        4                         5   \n106                1                        1                         1   \n270               10                        5                         7   \n435                4                        1                         1   \n102               10                       10                        10   \n\n     Marginal Adhesion  Single Epithelial Cell Size  Bare Nuclei  \\\n228                  1                            3            1   \n300                 10                           10            1   \n310                  1                            2            1   \n274                  1                            2           10   \n626                  1                            2            1   \n..                 ...                          ...          ...   \n71                  10                            6           10   \n106                  1                            2            1   \n270                  3                            3            7   \n435                  3                            1            1   \n102                 10                           10            1   \n\n     Bland Chromatin  Normal Nucleoli  Mitoses  \n228                3                6        1  \n300                3                5        1  \n310                3                1        1  \n274                5                3        1  \n626                2                1        1  \n..               ...              ...      ...  \n71                 4                8        1  \n106                2                3        1  \n270                3                3        8  \n435                2                1        1  \n102                8                8        8  \n\n[409 rows x 9 columns]",
      "text/html": "<div>\n<style scoped>\n    .dataframe tbody tr th:only-of-type {\n        vertical-align: middle;\n    }\n\n    .dataframe tbody tr th {\n        vertical-align: top;\n    }\n\n    .dataframe thead th {\n        text-align: right;\n    }\n</style>\n<table border=\"1\" class=\"dataframe\">\n  <thead>\n    <tr style=\"text-align: right;\">\n      <th></th>\n      <th>Clump Thickness</th>\n      <th>Uniformity of Cell Size</th>\n      <th>Uniformity of Cell Shape</th>\n      <th>Marginal Adhesion</th>\n      <th>Single Epithelial Cell Size</th>\n      <th>Bare Nuclei</th>\n      <th>Bland Chromatin</th>\n      <th>Normal Nucleoli</th>\n      <th>Mitoses</th>\n    </tr>\n  </thead>\n  <tbody>\n    <tr>\n      <th>228</th>\n      <td>3</td>\n      <td>3</td>\n      <td>2</td>\n      <td>1</td>\n      <td>3</td>\n      <td>1</td>\n      <td>3</td>\n      <td>6</td>\n      <td>1</td>\n    </tr>\n    <tr>\n      <th>300</th>\n      <td>8</td>\n      <td>6</td>\n      <td>4</td>\n      <td>10</td>\n      <td>10</td>\n      <td>1</td>\n      <td>3</td>\n      <td>5</td>\n      <td>1</td>\n    </tr>\n    <tr>\n      <th>310</th>\n      <td>1</td>\n      <td>1</td>\n      <td>1</td>\n      <td>1</td>\n      <td>2</td>\n      <td>1</td>\n      <td>3</td>\n      <td>1</td>\n      <td>1</td>\n    </tr>\n    <tr>\n      <th>274</th>\n      <td>10</td>\n      <td>4</td>\n      <td>6</td>\n      <td>1</td>\n      <td>2</td>\n      <td>10</td>\n      <td>5</td>\n      <td>3</td>\n      <td>1</td>\n    </tr>\n    <tr>\n      <th>626</th>\n      <td>3</td>\n      <td>1</td>\n      <td>1</td>\n      <td>1</td>\n      <td>2</td>\n      <td>1</td>\n      <td>2</td>\n      <td>1</td>\n      <td>1</td>\n    </tr>\n    <tr>\n      <th>...</th>\n      <td>...</td>\n      <td>...</td>\n      <td>...</td>\n      <td>...</td>\n      <td>...</td>\n      <td>...</td>\n      <td>...</td>\n      <td>...</td>\n      <td>...</td>\n    </tr>\n    <tr>\n      <th>71</th>\n      <td>9</td>\n      <td>4</td>\n      <td>5</td>\n      <td>10</td>\n      <td>6</td>\n      <td>10</td>\n      <td>4</td>\n      <td>8</td>\n      <td>1</td>\n    </tr>\n    <tr>\n      <th>106</th>\n      <td>1</td>\n      <td>1</td>\n      <td>1</td>\n      <td>1</td>\n      <td>2</td>\n      <td>1</td>\n      <td>2</td>\n      <td>3</td>\n      <td>1</td>\n    </tr>\n    <tr>\n      <th>270</th>\n      <td>10</td>\n      <td>5</td>\n      <td>7</td>\n      <td>3</td>\n      <td>3</td>\n      <td>7</td>\n      <td>3</td>\n      <td>3</td>\n      <td>8</td>\n    </tr>\n    <tr>\n      <th>435</th>\n      <td>4</td>\n      <td>1</td>\n      <td>1</td>\n      <td>3</td>\n      <td>1</td>\n      <td>1</td>\n      <td>2</td>\n      <td>1</td>\n      <td>1</td>\n    </tr>\n    <tr>\n      <th>102</th>\n      <td>10</td>\n      <td>10</td>\n      <td>10</td>\n      <td>10</td>\n      <td>10</td>\n      <td>1</td>\n      <td>8</td>\n      <td>8</td>\n      <td>8</td>\n    </tr>\n  </tbody>\n</table>\n<p>409 rows × 9 columns</p>\n</div>"
     },
     "execution_count": 39,
     "metadata": {},
     "output_type": "execute_result"
    }
   ],
   "source": [
    "X_train"
   ],
   "metadata": {
    "collapsed": false,
    "ExecuteTime": {
     "end_time": "2023-08-13T23:43:55.991008Z",
     "start_time": "2023-08-13T23:43:55.967581Z"
    }
   }
  },
  {
   "cell_type": "code",
   "execution_count": 40,
   "outputs": [],
   "source": [
    "#Transform the labels\n",
    "y_train = y_train.map({2: 0, 4: 1})\n",
    "y_val =  y_val.map({2: 0, 4: 1})\n",
    "y_test =  y_test.map({2: 0, 4: 1})"
   ],
   "metadata": {
    "collapsed": false,
    "ExecuteTime": {
     "end_time": "2023-08-13T23:43:56.163804Z",
     "start_time": "2023-08-13T23:43:56.133476Z"
    }
   }
  },
  {
   "cell_type": "code",
   "execution_count": 41,
   "outputs": [],
   "source": [
    "#Save the data\n",
    "SAVE_PATH = \"../../../../data/processed/breast_cancer\"\n",
    "np.savez(SAVE_PATH + '/train_data', inputs=X_train, labels=y_train)\n",
    "np.savez(SAVE_PATH + '/val_data', inputs=X_val, labels=y_val)\n",
    "np.savez(SAVE_PATH + '/test_data', inputs=X_test, labels=y_test)"
   ],
   "metadata": {
    "collapsed": false,
    "ExecuteTime": {
     "end_time": "2023-08-13T23:43:56.236350Z",
     "start_time": "2023-08-13T23:43:56.221917Z"
    }
   }
  }
 ],
 "metadata": {
  "kernelspec": {
   "display_name": "Python 3",
   "language": "python",
   "name": "python3"
  },
  "language_info": {
   "codemirror_mode": {
    "name": "ipython",
    "version": 2
   },
   "file_extension": ".py",
   "mimetype": "text/x-python",
   "name": "python",
   "nbconvert_exporter": "python",
   "pygments_lexer": "ipython2",
   "version": "2.7.6"
  }
 },
 "nbformat": 4,
 "nbformat_minor": 0
}
